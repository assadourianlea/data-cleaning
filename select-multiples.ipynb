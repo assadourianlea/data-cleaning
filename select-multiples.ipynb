{
 "cells": [
  {
   "cell_type": "code",
   "execution_count": 6,
   "id": "362491cb",
   "metadata": {},
   "outputs": [
    {
     "name": "stdout",
     "output_type": "stream",
     "text": [
      "                      sample\n",
      "0  test; random; words; etc \n",
      "1  test; random; words; etc \n",
      "2  test; random; words; etc \n",
      "3  test; random; words; etc \n",
      "4  test; random; words; etc \n",
      "We have a total of 45 respondents\n",
      "Count of 'sample' options:\n",
      "   sample  Count\n",
      "0    test     26\n",
      "1  random     40\n",
      "2   words     12\n",
      "3    etc      12\n",
      "4     etc     12\n",
      "This does not add up to the number of respondents because each respondent can select more than one option.\n"
     ]
    }
   ],
   "source": [
    "#You know that annoying select multiples from a survey?\n",
    "#The export is usally in one column and it split by some character...\n",
    "#This is a sample loop that splits and returns the count of each option :) \n",
    "\n",
    "import pandas as pd\n",
    "\n",
    "df = pd.read_excel('SAMPLE.xlsx')\n",
    "\n",
    "print(df.head(5))\n",
    "\n",
    "print(\"We have a total of\", len(df), \"respondents\" )\n",
    "\n",
    "sample_counts = {} \n",
    "\n",
    "#iterate through each row in the sample column and split values\n",
    "for value in df['sample']: #change column name\n",
    "    if pd.notna(value):\n",
    "        services = value.split('; ') #change to whatever the character is\n",
    "        for service in services:\n",
    "            if service in sample_counts:\n",
    "                sample_counts[service] += 1\n",
    "            else:\n",
    "                sample_counts[service] = 1\n",
    "\n",
    "sample_counts_df = pd.DataFrame(list(sample_counts.items()), columns=['sample', 'Count'])\n",
    "\n",
    "print(\"Count of 'sample' options:\")\n",
    "print(sample_counts_df)\n",
    "\n",
    "print(\"This does not add up to the number of respondents because each respondent can select more than one option.\")\n",
    "\n"
   ]
  },
  {
   "cell_type": "code",
   "execution_count": null,
   "id": "185db6be",
   "metadata": {},
   "outputs": [],
   "source": []
  },
  {
   "cell_type": "code",
   "execution_count": null,
   "id": "d0fd9e95",
   "metadata": {},
   "outputs": [],
   "source": []
  }
 ],
 "metadata": {
  "kernelspec": {
   "display_name": "Python 3 (ipykernel)",
   "language": "python",
   "name": "python3"
  },
  "language_info": {
   "codemirror_mode": {
    "name": "ipython",
    "version": 3
   },
   "file_extension": ".py",
   "mimetype": "text/x-python",
   "name": "python",
   "nbconvert_exporter": "python",
   "pygments_lexer": "ipython3",
   "version": "3.10.8"
  }
 },
 "nbformat": 4,
 "nbformat_minor": 5
}
